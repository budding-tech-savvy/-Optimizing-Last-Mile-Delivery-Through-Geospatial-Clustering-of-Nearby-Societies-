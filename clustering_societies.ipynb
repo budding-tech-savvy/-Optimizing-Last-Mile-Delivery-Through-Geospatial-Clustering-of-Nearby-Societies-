{
  "cells": [
    {
      "cell_type": "code",
      "source": [
        "import pandas as pd\n",
        "from sklearn.cluster import DBSCAN\n",
        "import numpy as np\n",
        "import matplotlib.pyplot as plt"
      ],
      "metadata": {
        "id": "2vA1runf_P4R"
      },
      "id": "2vA1runf_P4R",
      "execution_count": 67,
      "outputs": []
    },
    {
      "cell_type": "markdown",
      "source": [
        "\n",
        "The code from google.colab import drive imports the drive module from Google Colab, allowing you to interact with your Google Drive files.\n",
        "\n",
        "The drive.mount('/content/drive') command mounts your Google Drive to the Colab environment, providing access to your files stored in Google Drive. Once mounted, you can read, write, and manipulate files in Google Drive directly from your Colab notebook. The mounted drive is accessible at the path /content/drive."
      ],
      "metadata": {
        "id": "Jjq85TN52D4m"
      },
      "id": "Jjq85TN52D4m"
    },
    {
      "cell_type": "code",
      "source": [
        "from google.colab import drive\n",
        "drive.mount('/content/drive')"
      ],
      "metadata": {
        "colab": {
          "base_uri": "https://localhost:8080/"
        },
        "id": "IwjtdidiJllg",
        "outputId": "d3b25f85-a63d-42b4-8142-d128b748b3a8"
      },
      "id": "IwjtdidiJllg",
      "execution_count": 68,
      "outputs": [
        {
          "output_type": "stream",
          "name": "stdout",
          "text": [
            "Drive already mounted at /content/drive; to attempt to forcibly remount, call drive.mount(\"/content/drive\", force_remount=True).\n"
          ]
        }
      ]
    },
    {
      "cell_type": "markdown",
      "source": [
        "The variable file_path stores the location of the file D.csv within your Google Drive. The path \"/content/drive/MyDrive/Reduce vehicle count and grouping societies/D.csv\" points to the file in the mounted Google Drive directory, allowing you to access it from your Colab environment."
      ],
      "metadata": {
        "id": "GXLoKbt42Wz4"
      },
      "id": "GXLoKbt42Wz4"
    },
    {
      "cell_type": "code",
      "source": [
        "file_path = \"/content/drive/MyDrive/Reduce vehicle  count and grouping societies/D.csv\"  # Replace with your file path"
      ],
      "metadata": {
        "id": "n2QklKBh_QsP"
      },
      "id": "n2QklKBh_QsP",
      "execution_count": 69,
      "outputs": []
    },
    {
      "cell_type": "markdown",
      "source": [
        "data = pd.read_csv(file_path, sep=\",\") loads the CSV file from file_path into a Pandas DataFrame, using commas as the separator.Print the data.\n",
        "\n"
      ],
      "metadata": {
        "id": "vVPWOMZx2k9N"
      },
      "id": "vVPWOMZx2k9N"
    },
    {
      "cell_type": "code",
      "source": [
        "data = pd.read_csv(file_path,sep=\",\")"
      ],
      "metadata": {
        "id": "klxoicw2_l7H"
      },
      "id": "klxoicw2_l7H",
      "execution_count": 70,
      "outputs": []
    },
    {
      "cell_type": "code",
      "source": [
        "print(data.head(5))"
      ],
      "metadata": {
        "colab": {
          "base_uri": "https://localhost:8080/"
        },
        "id": "SFENRJL2OTVd",
        "outputId": "7eb9e20a-684d-46b5-a628-f5c11a5e44b7"
      },
      "id": "SFENRJL2OTVd",
      "execution_count": 102,
      "outputs": [
        {
          "output_type": "stream",
          "name": "stdout",
          "text": [
            "           Society Name   Latitude  Longitude  Cluster\n",
            "0    Greenfield Heights  28.704131  77.053478        0\n",
            "1           Emerald Bay  28.738793  77.071840        0\n",
            "2   Pinewood Residences  28.703083  77.108263        0\n",
            "3  Moonlight Apartments  28.711415  77.078376        0\n",
            "4     Sunny Side Villas  28.703065  77.099209        0\n"
          ]
        }
      ]
    },
    {
      "cell_type": "markdown",
      "source": [
        "coords = data[['Latitude', 'Longitude']].to_numpy() extracts the 'Latitude' and 'Longitude' columns from the DataFrame data and converts them into a NumPy array."
      ],
      "metadata": {
        "id": "gVAJ23RI3AOP"
      },
      "id": "gVAJ23RI3AOP"
    },
    {
      "cell_type": "code",
      "source": [
        "coords = data[['Latitude', 'Longitude']].to_numpy()"
      ],
      "metadata": {
        "id": "M8hzNxs6pA0A"
      },
      "id": "M8hzNxs6pA0A",
      "execution_count": 72,
      "outputs": []
    },
    {
      "cell_type": "markdown",
      "source": [
        "from geopy.distance import great_circle imports the great_circle function from the geopy library, which calculates the shortest distance between two points on the Earth's surface, using their latitude and longitude coordinates."
      ],
      "metadata": {
        "id": "9dAIBMqK3NdN"
      },
      "id": "9dAIBMqK3NdN"
    },
    {
      "cell_type": "code",
      "source": [
        "from geopy.distance import great_circle"
      ],
      "metadata": {
        "id": "0C_5ome2_qpr"
      },
      "id": "0C_5ome2_qpr",
      "execution_count": 73,
      "outputs": []
    },
    {
      "cell_type": "markdown",
      "source": [
        "The code performs the following actions:\n",
        "\n",
        "Set clustering radius: epsilon = 2 / kms_per_radian sets the radius for clustering to 2 km, converting it to radians. The variable kms_per_radian likely holds the number of kilometers per radian of latitude.\n",
        "\n",
        "DBSCAN Clustering: The DBSCAN algorithm is applied to the coordinates (coords) to identify clusters:\n",
        "\n",
        "eps=epsilon sets the radius for grouping points.\n",
        "min_samples=2 specifies the minimum number of points needed to form a cluster.\n",
        "algorithm='ball_tree' selects the algorithm used for the distance computation.\n",
        "metric='haversine' uses the Haversine formula to calculate distances between points on the Earth's surface, considering the curvature of the Earth.\n",
        "Fit model: .fit(np.radians(coords)) applies DBSCAN to the coordinates, first converting them from degrees to radians since the Haversine distance metric requires radians."
      ],
      "metadata": {
        "id": "7eevWYjs3TFS"
      },
      "id": "7eevWYjs3TFS"
    },
    {
      "cell_type": "code",
      "source": [
        "kms_per_radian = 6371.0088\n",
        "\n",
        "# Set clustering radius to 3 km (convert to radians)\n",
        "epsilon = 2 / kms_per_radian\n",
        "# Assuming coords is a numpy array with latitude and longitude\n",
        "db = DBSCAN(eps=epsilon, min_samples=2, algorithm='ball_tree', metric='haversine').fit(np.radians(coords))"
      ],
      "metadata": {
        "id": "bOBF6qhs_qv2"
      },
      "id": "bOBF6qhs_qv2",
      "execution_count": 74,
      "outputs": []
    },
    {
      "cell_type": "markdown",
      "source": [
        "data['Cluster'] = db.labels_ assigns the cluster labels obtained from the DBSCAN algorithm (db.labels_) to a new column called 'Cluster' in the data DataFrame. Each point in the DataFrame will be labeled with its corresponding cluster, where:\n",
        "\n",
        "A label of -1 indicates noise (points that don't belong to any cluster).\n",
        "Other values represent the cluster number assigned to each point."
      ],
      "metadata": {
        "id": "rnqdQkbw3f8s"
      },
      "id": "rnqdQkbw3f8s"
    },
    {
      "cell_type": "code",
      "source": [
        "data['Cluster'] = db.labels_"
      ],
      "metadata": {
        "id": "PjAY0TLGACDG"
      },
      "id": "PjAY0TLGACDG",
      "execution_count": 75,
      "outputs": []
    },
    {
      "cell_type": "code",
      "source": [
        "print(data.head(5))"
      ],
      "metadata": {
        "id": "v8D24RZ8ACOe",
        "outputId": "d9fc8fed-b2c7-4992-9157-251873dbbf11",
        "colab": {
          "base_uri": "https://localhost:8080/"
        }
      },
      "id": "v8D24RZ8ACOe",
      "execution_count": 103,
      "outputs": [
        {
          "output_type": "stream",
          "name": "stdout",
          "text": [
            "           Society Name   Latitude  Longitude  Cluster\n",
            "0    Greenfield Heights  28.704131  77.053478        0\n",
            "1           Emerald Bay  28.738793  77.071840        0\n",
            "2   Pinewood Residences  28.703083  77.108263        0\n",
            "3  Moonlight Apartments  28.711415  77.078376        0\n",
            "4     Sunny Side Villas  28.703065  77.099209        0\n"
          ]
        }
      ]
    },
    {
      "cell_type": "markdown",
      "source": [
        "Define output path: output_path = \"clustered_data.xlsx\" specifies the file path where the clustered data will be saved, in this case, as an Excel file.\n",
        "\n",
        "Save DataFrame to Excel: data.to_excel(output_path, index=False) saves the data DataFrame (with the added 'Cluster' column) to an Excel file at the specified output_path. The index=False argument prevents the DataFrame's index from being written to the Excel file.\n",
        "\n",
        "Print confirmation: print(f\"Clustered data saved to {output_path}\") outputs a message confirming the file has been saved, with the specified path."
      ],
      "metadata": {
        "id": "ovbnLlij3tAu"
      },
      "id": "ovbnLlij3tAu"
    },
    {
      "cell_type": "code",
      "source": [
        "output_path = \"clustered_data.xlsx\"\n",
        "data.to_excel(output_path, index=False)\n",
        "print(f\"Clustered data saved to {output_path}\")"
      ],
      "metadata": {
        "id": "AiJmh7n_AZfI",
        "outputId": "e5dbf287-6355-4430-97ea-b75aa73c6115",
        "colab": {
          "base_uri": "https://localhost:8080/"
        }
      },
      "id": "AiJmh7n_AZfI",
      "execution_count": 77,
      "outputs": [
        {
          "output_type": "stream",
          "name": "stdout",
          "text": [
            "Clustered data saved to clustered_data.xlsx\n"
          ]
        }
      ]
    },
    {
      "cell_type": "markdown",
      "source": [
        "The code creates an interactive scatter plot using Plotly Express. It:\n",
        "\n",
        "Plots Longitude on the x-axis and Latitude on the y-axis.\n",
        "Colors the points based on the Cluster column.\n",
        "Displays the Society Name and Cluster on hover.\n",
        "Adds a title \"Spread of Societies\" and labels for the axes.\n",
        "Finally, fig.show() renders the plot."
      ],
      "metadata": {
        "id": "GQzVfDkS34bg"
      },
      "id": "GQzVfDkS34bg"
    },
    {
      "cell_type": "code",
      "source": [
        "import plotly.express as px\n",
        "import pandas as pd\n",
        "\n",
        "# Create an interactive scatter plot\n",
        "fig = px.scatter(\n",
        "    data,\n",
        "    x='Longitude',\n",
        "    y='Latitude',\n",
        "    color='Cluster',\n",
        "    hover_data=['Society Name', 'Cluster'],\n",
        "    title='Spread of Societies',\n",
        "    labels={'Longitude': 'Longitude', 'Latitude': 'Latitude'}\n",
        ")\n",
        "\n",
        "# Show plot\n",
        "fig.show()"
      ],
      "metadata": {
        "id": "znep5BoEHF-Y",
        "outputId": "8f32eaa4-d047-41b5-b2e2-1aef4ae4b8d0",
        "colab": {
          "base_uri": "https://localhost:8080/",
          "height": 542
        }
      },
      "id": "znep5BoEHF-Y",
      "execution_count": 78,
      "outputs": [
        {
          "output_type": "display_data",
          "data": {
            "text/html": [
              "<html>\n",
              "<head><meta charset=\"utf-8\" /></head>\n",
              "<body>\n",
              "    <div>            <script src=\"https://cdnjs.cloudflare.com/ajax/libs/mathjax/2.7.5/MathJax.js?config=TeX-AMS-MML_SVG\"></script><script type=\"text/javascript\">if (window.MathJax && window.MathJax.Hub && window.MathJax.Hub.Config) {window.MathJax.Hub.Config({SVG: {font: \"STIX-Web\"}});}</script>                <script type=\"text/javascript\">window.PlotlyConfig = {MathJaxConfig: 'local'};</script>\n",
              "        <script charset=\"utf-8\" src=\"https://cdn.plot.ly/plotly-2.35.2.min.js\"></script>                <div id=\"a8ff1b2b-4717-4837-ad24-89694b8ca9db\" class=\"plotly-graph-div\" style=\"height:525px; width:100%;\"></div>            <script type=\"text/javascript\">                                    window.PLOTLYENV=window.PLOTLYENV || {};                                    if (document.getElementById(\"a8ff1b2b-4717-4837-ad24-89694b8ca9db\")) {                    Plotly.newPlot(                        \"a8ff1b2b-4717-4837-ad24-89694b8ca9db\",                        [{\"customdata\":[[\"Greenfield Heights\",0],[\"Emerald Bay\",0],[\"Pinewood Residences\",0],[\"Moonlight Apartments\",0],[\"Sunny Side Villas\",0],[\"Greenfield Heights\",0],[\"Sunny Side Villas\",0],[\"Emerald Bay\",0],[\"Evergreen Park\",0],[\"Blue Ridge Society\",0],[\"Rosewood Society\",0],[\"Palm Grove Estates\",0],[\"Evergreen Park\",0],[\"Maple Residency\",0],[\"Golden Springs\",0],[\"Sunset Heights\",0],[\"Crystal Towers\",0],[\"Rosewood Society\",0],[\"Maple Residency\",0],[\"Sunset Heights\",0],[\"Pinewood Residences\",0],[\"Golden Springs\",0],[\"Sunny Side Villas\",0],[\"Pinewood Residences\",0],[\"Golden Springs\",-1],[\"Moonlight Apartments\",0],[\"Oceanview Homes\",0],[\"Crystal Towers\",0],[\"Greenfield Heights\",0],[\"Maple Residency\",0],[\"Blue Ridge Society\",0],[\"Sunset Heights\",0],[\"Pinewood Residences\",0],[\"Oceanview Homes\",0],[\"Sunset Heights\",0],[\"Crystal Towers\",0],[\"Greenfield Heights\",0],[\"Maple Residency\",0],[\"Palm Grove Estates\",0],[\"Sunset Heights\",0],[\"Palm Grove Estates\",0],[\"Lakeview Enclave\",0],[\"Evergreen Park\",0],[\"Emerald Bay\",0],[\"Rosewood Society\",0],[\"Silver Oaks\",0],[\"Crystal Towers\",0],[\"Emerald Bay\",-1],[\"Emerald Bay\",0],[\"Golden Springs\",0]],\"hovertemplate\":\"Longitude=%{x}\\u003cbr\\u003eLatitude=%{y}\\u003cbr\\u003eSociety Name=%{customdata[0]}\\u003cbr\\u003eCluster=%{marker.color}\\u003cextra\\u003e\\u003c\\u002fextra\\u003e\",\"legendgroup\":\"\",\"marker\":{\"color\":[0,0,0,0,0,0,0,0,0,0,0,0,0,0,0,0,0,0,0,0,0,0,0,0,-1,0,0,0,0,0,0,0,0,0,0,0,0,0,0,0,0,0,0,0,0,0,0,-1,0,0],\"coloraxis\":\"coloraxis\",\"symbol\":\"circle\"},\"mode\":\"markers\",\"name\":\"\",\"orientation\":\"v\",\"showlegend\":false,\"x\":[77.05347792,77.07183994,77.10826304,77.07837557,77.09920854,77.06336565,77.10271813,77.12668032,77.07940886,77.10333912,77.06472189,77.10967863,77.12592168,77.08630775,77.08065217,77.15148893,77.06215959,77.13041757,77.07868525,77.12967152,77.07265808,77.14430358,77.08097942,77.07245164,77.12980557,77.15164697,77.06702663,77.13561307,77.11692264,77.08927331,77.13984435,77.05449739,77.05699589,77.13887199,77.09803338,77.11339224,77.08511496,77.06260496,77.07867322,77.11505513,77.14404416,77.0702651,77.1339038,77.06617778,77.11117603,77.07753688,77.07547968,77.09033512,77.10365651,77.06986328],\"xaxis\":\"x\",\"y\":[28.70413068,28.73879327,28.70308302,28.71141539,28.7030651,28.70267864,28.68872911,28.69450457,28.69165389,28.68737727,28.6983879,28.66635084,28.68395941,28.75187877,28.73719911,28.73538036,28.73211677,28.70527499,28.69510951,28.68220933,28.67266302,28.69342455,28.7338225,28.70243393,28.74875583,28.65920828,28.7071505,28.66875096,28.68903636,28.67674828,28.69512496,28.668059,28.67808893,28.71001465,28.73850354,28.65967972,28.75261822,28.65632435,28.74580293,28.67378119,28.72063424,28.71457229,28.69085738,28.72058648,28.68590595,28.71868277,28.7199853,28.65495433,28.70026031,28.68099673],\"yaxis\":\"y\",\"type\":\"scatter\"}],                        {\"template\":{\"data\":{\"histogram2dcontour\":[{\"type\":\"histogram2dcontour\",\"colorbar\":{\"outlinewidth\":0,\"ticks\":\"\"},\"colorscale\":[[0.0,\"#0d0887\"],[0.1111111111111111,\"#46039f\"],[0.2222222222222222,\"#7201a8\"],[0.3333333333333333,\"#9c179e\"],[0.4444444444444444,\"#bd3786\"],[0.5555555555555556,\"#d8576b\"],[0.6666666666666666,\"#ed7953\"],[0.7777777777777778,\"#fb9f3a\"],[0.8888888888888888,\"#fdca26\"],[1.0,\"#f0f921\"]]}],\"choropleth\":[{\"type\":\"choropleth\",\"colorbar\":{\"outlinewidth\":0,\"ticks\":\"\"}}],\"histogram2d\":[{\"type\":\"histogram2d\",\"colorbar\":{\"outlinewidth\":0,\"ticks\":\"\"},\"colorscale\":[[0.0,\"#0d0887\"],[0.1111111111111111,\"#46039f\"],[0.2222222222222222,\"#7201a8\"],[0.3333333333333333,\"#9c179e\"],[0.4444444444444444,\"#bd3786\"],[0.5555555555555556,\"#d8576b\"],[0.6666666666666666,\"#ed7953\"],[0.7777777777777778,\"#fb9f3a\"],[0.8888888888888888,\"#fdca26\"],[1.0,\"#f0f921\"]]}],\"heatmap\":[{\"type\":\"heatmap\",\"colorbar\":{\"outlinewidth\":0,\"ticks\":\"\"},\"colorscale\":[[0.0,\"#0d0887\"],[0.1111111111111111,\"#46039f\"],[0.2222222222222222,\"#7201a8\"],[0.3333333333333333,\"#9c179e\"],[0.4444444444444444,\"#bd3786\"],[0.5555555555555556,\"#d8576b\"],[0.6666666666666666,\"#ed7953\"],[0.7777777777777778,\"#fb9f3a\"],[0.8888888888888888,\"#fdca26\"],[1.0,\"#f0f921\"]]}],\"heatmapgl\":[{\"type\":\"heatmapgl\",\"colorbar\":{\"outlinewidth\":0,\"ticks\":\"\"},\"colorscale\":[[0.0,\"#0d0887\"],[0.1111111111111111,\"#46039f\"],[0.2222222222222222,\"#7201a8\"],[0.3333333333333333,\"#9c179e\"],[0.4444444444444444,\"#bd3786\"],[0.5555555555555556,\"#d8576b\"],[0.6666666666666666,\"#ed7953\"],[0.7777777777777778,\"#fb9f3a\"],[0.8888888888888888,\"#fdca26\"],[1.0,\"#f0f921\"]]}],\"contourcarpet\":[{\"type\":\"contourcarpet\",\"colorbar\":{\"outlinewidth\":0,\"ticks\":\"\"}}],\"contour\":[{\"type\":\"contour\",\"colorbar\":{\"outlinewidth\":0,\"ticks\":\"\"},\"colorscale\":[[0.0,\"#0d0887\"],[0.1111111111111111,\"#46039f\"],[0.2222222222222222,\"#7201a8\"],[0.3333333333333333,\"#9c179e\"],[0.4444444444444444,\"#bd3786\"],[0.5555555555555556,\"#d8576b\"],[0.6666666666666666,\"#ed7953\"],[0.7777777777777778,\"#fb9f3a\"],[0.8888888888888888,\"#fdca26\"],[1.0,\"#f0f921\"]]}],\"surface\":[{\"type\":\"surface\",\"colorbar\":{\"outlinewidth\":0,\"ticks\":\"\"},\"colorscale\":[[0.0,\"#0d0887\"],[0.1111111111111111,\"#46039f\"],[0.2222222222222222,\"#7201a8\"],[0.3333333333333333,\"#9c179e\"],[0.4444444444444444,\"#bd3786\"],[0.5555555555555556,\"#d8576b\"],[0.6666666666666666,\"#ed7953\"],[0.7777777777777778,\"#fb9f3a\"],[0.8888888888888888,\"#fdca26\"],[1.0,\"#f0f921\"]]}],\"mesh3d\":[{\"type\":\"mesh3d\",\"colorbar\":{\"outlinewidth\":0,\"ticks\":\"\"}}],\"scatter\":[{\"fillpattern\":{\"fillmode\":\"overlay\",\"size\":10,\"solidity\":0.2},\"type\":\"scatter\"}],\"parcoords\":[{\"type\":\"parcoords\",\"line\":{\"colorbar\":{\"outlinewidth\":0,\"ticks\":\"\"}}}],\"scatterpolargl\":[{\"type\":\"scatterpolargl\",\"marker\":{\"colorbar\":{\"outlinewidth\":0,\"ticks\":\"\"}}}],\"bar\":[{\"error_x\":{\"color\":\"#2a3f5f\"},\"error_y\":{\"color\":\"#2a3f5f\"},\"marker\":{\"line\":{\"color\":\"#E5ECF6\",\"width\":0.5},\"pattern\":{\"fillmode\":\"overlay\",\"size\":10,\"solidity\":0.2}},\"type\":\"bar\"}],\"scattergeo\":[{\"type\":\"scattergeo\",\"marker\":{\"colorbar\":{\"outlinewidth\":0,\"ticks\":\"\"}}}],\"scatterpolar\":[{\"type\":\"scatterpolar\",\"marker\":{\"colorbar\":{\"outlinewidth\":0,\"ticks\":\"\"}}}],\"histogram\":[{\"marker\":{\"pattern\":{\"fillmode\":\"overlay\",\"size\":10,\"solidity\":0.2}},\"type\":\"histogram\"}],\"scattergl\":[{\"type\":\"scattergl\",\"marker\":{\"colorbar\":{\"outlinewidth\":0,\"ticks\":\"\"}}}],\"scatter3d\":[{\"type\":\"scatter3d\",\"line\":{\"colorbar\":{\"outlinewidth\":0,\"ticks\":\"\"}},\"marker\":{\"colorbar\":{\"outlinewidth\":0,\"ticks\":\"\"}}}],\"scattermapbox\":[{\"type\":\"scattermapbox\",\"marker\":{\"colorbar\":{\"outlinewidth\":0,\"ticks\":\"\"}}}],\"scatterternary\":[{\"type\":\"scatterternary\",\"marker\":{\"colorbar\":{\"outlinewidth\":0,\"ticks\":\"\"}}}],\"scattercarpet\":[{\"type\":\"scattercarpet\",\"marker\":{\"colorbar\":{\"outlinewidth\":0,\"ticks\":\"\"}}}],\"carpet\":[{\"aaxis\":{\"endlinecolor\":\"#2a3f5f\",\"gridcolor\":\"white\",\"linecolor\":\"white\",\"minorgridcolor\":\"white\",\"startlinecolor\":\"#2a3f5f\"},\"baxis\":{\"endlinecolor\":\"#2a3f5f\",\"gridcolor\":\"white\",\"linecolor\":\"white\",\"minorgridcolor\":\"white\",\"startlinecolor\":\"#2a3f5f\"},\"type\":\"carpet\"}],\"table\":[{\"cells\":{\"fill\":{\"color\":\"#EBF0F8\"},\"line\":{\"color\":\"white\"}},\"header\":{\"fill\":{\"color\":\"#C8D4E3\"},\"line\":{\"color\":\"white\"}},\"type\":\"table\"}],\"barpolar\":[{\"marker\":{\"line\":{\"color\":\"#E5ECF6\",\"width\":0.5},\"pattern\":{\"fillmode\":\"overlay\",\"size\":10,\"solidity\":0.2}},\"type\":\"barpolar\"}],\"pie\":[{\"automargin\":true,\"type\":\"pie\"}]},\"layout\":{\"autotypenumbers\":\"strict\",\"colorway\":[\"#636efa\",\"#EF553B\",\"#00cc96\",\"#ab63fa\",\"#FFA15A\",\"#19d3f3\",\"#FF6692\",\"#B6E880\",\"#FF97FF\",\"#FECB52\"],\"font\":{\"color\":\"#2a3f5f\"},\"hovermode\":\"closest\",\"hoverlabel\":{\"align\":\"left\"},\"paper_bgcolor\":\"white\",\"plot_bgcolor\":\"#E5ECF6\",\"polar\":{\"bgcolor\":\"#E5ECF6\",\"angularaxis\":{\"gridcolor\":\"white\",\"linecolor\":\"white\",\"ticks\":\"\"},\"radialaxis\":{\"gridcolor\":\"white\",\"linecolor\":\"white\",\"ticks\":\"\"}},\"ternary\":{\"bgcolor\":\"#E5ECF6\",\"aaxis\":{\"gridcolor\":\"white\",\"linecolor\":\"white\",\"ticks\":\"\"},\"baxis\":{\"gridcolor\":\"white\",\"linecolor\":\"white\",\"ticks\":\"\"},\"caxis\":{\"gridcolor\":\"white\",\"linecolor\":\"white\",\"ticks\":\"\"}},\"coloraxis\":{\"colorbar\":{\"outlinewidth\":0,\"ticks\":\"\"}},\"colorscale\":{\"sequential\":[[0.0,\"#0d0887\"],[0.1111111111111111,\"#46039f\"],[0.2222222222222222,\"#7201a8\"],[0.3333333333333333,\"#9c179e\"],[0.4444444444444444,\"#bd3786\"],[0.5555555555555556,\"#d8576b\"],[0.6666666666666666,\"#ed7953\"],[0.7777777777777778,\"#fb9f3a\"],[0.8888888888888888,\"#fdca26\"],[1.0,\"#f0f921\"]],\"sequentialminus\":[[0.0,\"#0d0887\"],[0.1111111111111111,\"#46039f\"],[0.2222222222222222,\"#7201a8\"],[0.3333333333333333,\"#9c179e\"],[0.4444444444444444,\"#bd3786\"],[0.5555555555555556,\"#d8576b\"],[0.6666666666666666,\"#ed7953\"],[0.7777777777777778,\"#fb9f3a\"],[0.8888888888888888,\"#fdca26\"],[1.0,\"#f0f921\"]],\"diverging\":[[0,\"#8e0152\"],[0.1,\"#c51b7d\"],[0.2,\"#de77ae\"],[0.3,\"#f1b6da\"],[0.4,\"#fde0ef\"],[0.5,\"#f7f7f7\"],[0.6,\"#e6f5d0\"],[0.7,\"#b8e186\"],[0.8,\"#7fbc41\"],[0.9,\"#4d9221\"],[1,\"#276419\"]]},\"xaxis\":{\"gridcolor\":\"white\",\"linecolor\":\"white\",\"ticks\":\"\",\"title\":{\"standoff\":15},\"zerolinecolor\":\"white\",\"automargin\":true,\"zerolinewidth\":2},\"yaxis\":{\"gridcolor\":\"white\",\"linecolor\":\"white\",\"ticks\":\"\",\"title\":{\"standoff\":15},\"zerolinecolor\":\"white\",\"automargin\":true,\"zerolinewidth\":2},\"scene\":{\"xaxis\":{\"backgroundcolor\":\"#E5ECF6\",\"gridcolor\":\"white\",\"linecolor\":\"white\",\"showbackground\":true,\"ticks\":\"\",\"zerolinecolor\":\"white\",\"gridwidth\":2},\"yaxis\":{\"backgroundcolor\":\"#E5ECF6\",\"gridcolor\":\"white\",\"linecolor\":\"white\",\"showbackground\":true,\"ticks\":\"\",\"zerolinecolor\":\"white\",\"gridwidth\":2},\"zaxis\":{\"backgroundcolor\":\"#E5ECF6\",\"gridcolor\":\"white\",\"linecolor\":\"white\",\"showbackground\":true,\"ticks\":\"\",\"zerolinecolor\":\"white\",\"gridwidth\":2}},\"shapedefaults\":{\"line\":{\"color\":\"#2a3f5f\"}},\"annotationdefaults\":{\"arrowcolor\":\"#2a3f5f\",\"arrowhead\":0,\"arrowwidth\":1},\"geo\":{\"bgcolor\":\"white\",\"landcolor\":\"#E5ECF6\",\"subunitcolor\":\"white\",\"showland\":true,\"showlakes\":true,\"lakecolor\":\"white\"},\"title\":{\"x\":0.05},\"mapbox\":{\"style\":\"light\"}}},\"xaxis\":{\"anchor\":\"y\",\"domain\":[0.0,1.0],\"title\":{\"text\":\"Longitude\"}},\"yaxis\":{\"anchor\":\"x\",\"domain\":[0.0,1.0],\"title\":{\"text\":\"Latitude\"}},\"coloraxis\":{\"colorbar\":{\"title\":{\"text\":\"Cluster\"}},\"colorscale\":[[0.0,\"#0d0887\"],[0.1111111111111111,\"#46039f\"],[0.2222222222222222,\"#7201a8\"],[0.3333333333333333,\"#9c179e\"],[0.4444444444444444,\"#bd3786\"],[0.5555555555555556,\"#d8576b\"],[0.6666666666666666,\"#ed7953\"],[0.7777777777777778,\"#fb9f3a\"],[0.8888888888888888,\"#fdca26\"],[1.0,\"#f0f921\"]]},\"legend\":{\"tracegroupgap\":0},\"title\":{\"text\":\"Spread of Societies\"}},                        {\"responsive\": true}                    ).then(function(){\n",
              "                            \n",
              "var gd = document.getElementById('a8ff1b2b-4717-4837-ad24-89694b8ca9db');\n",
              "var x = new MutationObserver(function (mutations, observer) {{\n",
              "        var display = window.getComputedStyle(gd).display;\n",
              "        if (!display || display === 'none') {{\n",
              "            console.log([gd, 'removed!']);\n",
              "            Plotly.purge(gd);\n",
              "            observer.disconnect();\n",
              "        }}\n",
              "}});\n",
              "\n",
              "// Listen for the removal of the full notebook cells\n",
              "var notebookContainer = gd.closest('#notebook-container');\n",
              "if (notebookContainer) {{\n",
              "    x.observe(notebookContainer, {childList: true});\n",
              "}}\n",
              "\n",
              "// Listen for the clearing of the current output cell\n",
              "var outputEl = gd.closest('.output');\n",
              "if (outputEl) {{\n",
              "    x.observe(outputEl, {childList: true});\n",
              "}}\n",
              "\n",
              "                        })                };                            </script>        </div>\n",
              "</body>\n",
              "</html>"
            ]
          },
          "metadata": {}
        }
      ]
    },
    {
      "cell_type": "code",
      "source": [
        "df=data"
      ],
      "metadata": {
        "id": "ddC3TmWcl2Tx"
      },
      "id": "ddC3TmWcl2Tx",
      "execution_count": 79,
      "outputs": []
    },
    {
      "cell_type": "markdown",
      "source": [
        "Filter out noise points: df = df[df[\"Cluster\"] >= 0] filters the DataFrame to include only rows where the 'Cluster' column has values greater than or equal to 0, effectively removing noise points (labeled as -1 by DBSCAN).\n",
        "\n",
        "Rename column: df = df.rename(columns={\"Society Name\": \"Society_Name\"}) renames the column \"Society Name\" to \"Society_Name\" for consistency or style.\n",
        "\n",
        "Display first 5 rows: print(df.head(5)) prints the first 5 rows of the modified DataFrame.\n",
        "\n",
        "This results in a cleaned and renamed DataFrame with no noise points, ready for further analysis or visualization."
      ],
      "metadata": {
        "id": "xMfofGlj4En2"
      },
      "id": "xMfofGlj4En2"
    },
    {
      "cell_type": "code",
      "source": [
        "#Let's filter this data and remove the societies that are outliers.\n",
        "df=df[df[\"Cluster\"]>=0]\n",
        "df=df.rename(columns={\"Society Name\":\"Society_Name\"})\n",
        "print(df.head(5))"
      ],
      "metadata": {
        "colab": {
          "base_uri": "https://localhost:8080/"
        },
        "id": "2y1I2_wUmEOT",
        "outputId": "81ced71a-5fdd-4323-9cca-eff64f691bbc"
      },
      "id": "2y1I2_wUmEOT",
      "execution_count": 80,
      "outputs": [
        {
          "output_type": "stream",
          "name": "stdout",
          "text": [
            "           Society_Name   Latitude  Longitude  Cluster\n",
            "0    Greenfield Heights  28.704131  77.053478        0\n",
            "1           Emerald Bay  28.738793  77.071840        0\n",
            "2   Pinewood Residences  28.703083  77.108263        0\n",
            "3  Moonlight Apartments  28.711415  77.078376        0\n",
            "4     Sunny Side Villas  28.703065  77.099209        0\n"
          ]
        }
      ]
    },
    {
      "cell_type": "markdown",
      "source": [
        "The code performs the following actions:\n",
        "\n",
        "Concatenate Society_Name and Latitude: df.loc[:, 'cc'] = df[\"Latitude\"].astype(str) + df[\"Society_Name\"] creates a new column 'cc' by concatenating the Latitude (converted to a string) and Society_Name. This combines both values into a single string for each row.\n",
        "\n",
        "Display first 5 rows: print(df.head(5)) prints the first 5 rows of the DataFrame, now with the additional 'cc' column.\n",
        "\n",
        "This results in a new column 'cc', where each entry contains the Latitude followed by the corresponding Society_Name."
      ],
      "metadata": {
        "id": "alOozSBc4WYC"
      },
      "id": "alOozSBc4WYC"
    },
    {
      "cell_type": "code",
      "source": [
        "#lets concatenate society  name and latitude\n",
        "df.loc[:, 'cc']  =df[\"Latitude\"].astype(str) +df[\"Society_Name\"]\n",
        "print(df.head(5))"
      ],
      "metadata": {
        "colab": {
          "base_uri": "https://localhost:8080/"
        },
        "id": "OTnu0XkFsjoC",
        "outputId": "b5120e04-06f1-4f3c-a1ec-d70e9bd63048"
      },
      "id": "OTnu0XkFsjoC",
      "execution_count": 81,
      "outputs": [
        {
          "output_type": "stream",
          "name": "stdout",
          "text": [
            "           Society_Name   Latitude  Longitude  Cluster  \\\n",
            "0    Greenfield Heights  28.704131  77.053478        0   \n",
            "1           Emerald Bay  28.738793  77.071840        0   \n",
            "2   Pinewood Residences  28.703083  77.108263        0   \n",
            "3  Moonlight Apartments  28.711415  77.078376        0   \n",
            "4     Sunny Side Villas  28.703065  77.099209        0   \n",
            "\n",
            "                                cc  \n",
            "0    28.70413068Greenfield Heights  \n",
            "1           28.73879327Emerald Bay  \n",
            "2   28.70308302Pinewood Residences  \n",
            "3  28.71141539Moonlight Apartments  \n",
            "4      28.7030651Sunny Side Villas  \n"
          ]
        }
      ]
    },
    {
      "cell_type": "code",
      "source": [
        "df1 = pd.read_csv(\"/content/drive/MyDrive/Reduce vehicle  count and grouping societies/societies_orders.csv\",sep=\",\")\n",
        "df1=df1.rename(columns={\"Society Name\":\"Society_Name\"})\n",
        "print(df1.head(10))"
      ],
      "metadata": {
        "colab": {
          "base_uri": "https://localhost:8080/"
        },
        "id": "myNZVAnpqeT1",
        "outputId": "ea31d2c1-78cd-4df1-8c5c-15b25e49496f"
      },
      "id": "myNZVAnpqeT1",
      "execution_count": 82,
      "outputs": [
        {
          "output_type": "stream",
          "name": "stdout",
          "text": [
            "           Society_Name                               cc   Latitude  \\\n",
            "0    Greenfield Heights    28.70413068Greenfield Heights  28.704131   \n",
            "1           Emerald Bay           28.73879327Emerald Bay  28.738793   \n",
            "2   Pinewood Residences   28.70308302Pinewood Residences  28.703083   \n",
            "3  Moonlight Apartments  28.71141539Moonlight Apartments  28.711415   \n",
            "4     Sunny Side Villas      28.7030651Sunny Side Villas  28.703065   \n",
            "5    Greenfield Heights    28.70267864Greenfield Heights  28.702679   \n",
            "6     Sunny Side Villas     28.68872911Sunny Side Villas  28.688729   \n",
            "7           Emerald Bay           28.69450457Emerald Bay  28.694505   \n",
            "8        Evergreen Park        28.69165389Evergreen Park  28.691654   \n",
            "9    Blue Ridge Society    28.68737727Blue Ridge Society  28.687377   \n",
            "\n",
            "   Longitude  Orders  \n",
            "0  77.053478      16  \n",
            "1  77.071840      15  \n",
            "2  77.108263      15  \n",
            "3  77.078376      25  \n",
            "4  77.099209       9  \n",
            "5  77.063366       1  \n",
            "6  77.102718       2  \n",
            "7  77.126680      21  \n",
            "8  77.079409      16  \n",
            "9  77.103339      24  \n"
          ]
        }
      ]
    },
    {
      "cell_type": "markdown",
      "source": [
        "The code performs the following actions:\n",
        "\n",
        "Create an in-memory SQLite database:\n",
        "conn = sqlite3.connect(':memory:') creates an in-memory SQLite database, meaning the database exists only during the runtime of the program.\n",
        "\n",
        "Create a cursor:\n",
        "cursor = conn.cursor() initializes a cursor to interact with the SQLite database.\n",
        "\n",
        "Load DataFrames into SQLite:\n",
        "\n",
        "df.to_sql('df', conn, index=False, if_exists='replace') stores the DataFrame df in the in-memory SQLite database as a table named df. If the table already exists, it will be replaced.\n",
        "df1.to_sql('df1', conn, index=False, if_exists='replace') does the same for the DataFrame df1, creating a table named df1.\n",
        "Execute SQL Query:\n",
        "query = \"SELECT df.Society_Name, df.Latitude, df.Longitude, df.Cluster, Orders FROM df JOIN df1 ON df.cc = df1.cc\" is an SQL query that performs an inner join between the two tables (df and df1) on the 'cc' column, selecting specific columns from both tables.\n",
        "\n",
        "Fetch and display results:\n",
        "result = pd.read_sql(query, conn) runs the query and loads the results into a Pandas DataFrame result.\n",
        "print(result.head(55)) prints the first 55 rows of the query result.\n",
        "\n",
        "This process simulates querying a database using SQLite with two DataFrames (df and df1) stored in an in-memory database, where data from both tables is joined based on the 'cc' column."
      ],
      "metadata": {
        "id": "eiHBFUjp4dHa"
      },
      "id": "eiHBFUjp4dHa"
    },
    {
      "cell_type": "code",
      "source": [
        "#An Excel file was used as a prototype instead of the actual database to address privacy concerns.\"\n",
        "import sqlite3\n",
        "\n",
        "# Create an in-memory SQLite database\n",
        "conn = sqlite3.connect(':memory:')\n",
        "cursor = conn.cursor()\n",
        "\n",
        "# Load DataFrame into SQLite\n",
        "df.to_sql('df', conn, index=False, if_exists='replace')\n",
        "\n",
        "df1.to_sql('df1', conn, index=False, if_exists='replace')\n",
        "# Example Query to Fetch All Columns\n",
        "\n",
        "query = \"SELECT df.Society_Name,df.Latitude,df.Longitude,df.Cluster,Orders FROM df join df1 on df.cc=df1.cc\"\n",
        "\n",
        "result = pd.read_sql(query, conn)\n",
        "\n",
        "# Display the query result\n",
        "print(result.head(55))"
      ],
      "metadata": {
        "colab": {
          "base_uri": "https://localhost:8080/"
        },
        "id": "_36iw5EUrV7l",
        "outputId": "91486201-e093-44a2-a482-c194b2f569d9"
      },
      "id": "_36iw5EUrV7l",
      "execution_count": 97,
      "outputs": [
        {
          "output_type": "stream",
          "name": "stdout",
          "text": [
            "            Society_Name   Latitude  Longitude  Cluster  Orders\n",
            "0     Greenfield Heights  28.704131  77.053478        0      16\n",
            "1            Emerald Bay  28.738793  77.071840        0      15\n",
            "2    Pinewood Residences  28.703083  77.108263        0      15\n",
            "3   Moonlight Apartments  28.711415  77.078376        0      25\n",
            "4      Sunny Side Villas  28.703065  77.099209        0       9\n",
            "5     Greenfield Heights  28.702679  77.063366        0       1\n",
            "6      Sunny Side Villas  28.688729  77.102718        0       2\n",
            "7            Emerald Bay  28.694505  77.126680        0      21\n",
            "8         Evergreen Park  28.691654  77.079409        0      16\n",
            "9     Blue Ridge Society  28.687377  77.103339        0      24\n",
            "10      Rosewood Society  28.698388  77.064722        0       2\n",
            "11    Palm Grove Estates  28.666351  77.109679        0       3\n",
            "12        Evergreen Park  28.683959  77.125922        0       3\n",
            "13       Maple Residency  28.751879  77.086308        0       4\n",
            "14        Golden Springs  28.737199  77.080652        0      22\n",
            "15        Sunset Heights  28.735380  77.151489        0      13\n",
            "16        Crystal Towers  28.732117  77.062160        0      18\n",
            "17      Rosewood Society  28.705275  77.130418        0      17\n",
            "18       Maple Residency  28.695110  77.078685        0       9\n",
            "19        Sunset Heights  28.682209  77.129672        0       1\n",
            "20   Pinewood Residences  28.672663  77.072658        0       7\n",
            "21        Golden Springs  28.693425  77.144304        0       5\n",
            "22     Sunny Side Villas  28.733822  77.080979        0       2\n",
            "23   Pinewood Residences  28.702434  77.072452        0       2\n",
            "24  Moonlight Apartments  28.659208  77.151647        0      10\n",
            "25       Oceanview Homes  28.707151  77.067027        0       2\n",
            "26        Crystal Towers  28.668751  77.135613        0       5\n",
            "27    Greenfield Heights  28.689036  77.116923        0       3\n",
            "28       Maple Residency  28.676748  77.089273        0      20\n",
            "29    Blue Ridge Society  28.695125  77.139844        0      25\n",
            "30        Sunset Heights  28.668059  77.054497        0      14\n",
            "31   Pinewood Residences  28.678089  77.056996        0       5\n",
            "32       Oceanview Homes  28.710015  77.138872        0      21\n",
            "33        Sunset Heights  28.738504  77.098033        0      14\n",
            "34        Crystal Towers  28.659680  77.113392        0      18\n",
            "35    Greenfield Heights  28.752618  77.085115        0       8\n",
            "36       Maple Residency  28.656324  77.062605        0       5\n",
            "37    Palm Grove Estates  28.745803  77.078673        0       5\n",
            "38        Sunset Heights  28.673781  77.115055        0      24\n",
            "39    Palm Grove Estates  28.720634  77.144044        0       8\n",
            "40      Lakeview Enclave  28.714572  77.070265        0       8\n",
            "41        Evergreen Park  28.690857  77.133904        0       2\n",
            "42           Emerald Bay  28.720586  77.066178        0      13\n",
            "43      Rosewood Society  28.685906  77.111176        0      23\n",
            "44           Silver Oaks  28.718683  77.077537        0      15\n",
            "45        Crystal Towers  28.719985  77.075480        0      15\n",
            "46           Emerald Bay  28.700260  77.103657        0      15\n",
            "47        Golden Springs  28.680997  77.069863        0       2\n"
          ]
        }
      ]
    },
    {
      "cell_type": "code",
      "source": [
        "result\n",
        "print(type(result))"
      ],
      "metadata": {
        "colab": {
          "base_uri": "https://localhost:8080/"
        },
        "id": "w0fDHsZC0BNv",
        "outputId": "0b8262c5-a428-42c4-9278-ec0827a1fa48"
      },
      "id": "w0fDHsZC0BNv",
      "execution_count": 100,
      "outputs": [
        {
          "output_type": "stream",
          "name": "stdout",
          "text": [
            "<class 'pandas.core.frame.DataFrame'>\n"
          ]
        }
      ]
    },
    {
      "cell_type": "markdown",
      "source": [
        "The code result1 = result[\"Orders\"].sum() calculates the sum of the values in the \"Orders\" column of the result DataFrame.\n",
        "\n",
        "The variable result1 will hold the total sum of all the orders in that column."
      ],
      "metadata": {
        "id": "vbNjqE0l5CvH"
      },
      "id": "vbNjqE0l5CvH"
    },
    {
      "cell_type": "code",
      "source": [
        "result1=result[\"Orders\"].sum()\n",
        "result1"
      ],
      "metadata": {
        "colab": {
          "base_uri": "https://localhost:8080/"
        },
        "id": "MG70d_Lk0LiL",
        "outputId": "5f748a76-bfa8-4769-a651-2ec6dc335223"
      },
      "id": "MG70d_Lk0LiL",
      "execution_count": 101,
      "outputs": [
        {
          "output_type": "execute_result",
          "data": {
            "text/plain": [
              "532"
            ]
          },
          "metadata": {},
          "execution_count": 101
        }
      ]
    },
    {
      "cell_type": "markdown",
      "source": [
        "while Total orders are 532.\n",
        "\n",
        "A Bolero can carry up to 300 orders, while a Tata Ace can handle 250 orders. Since the total number of orders exceeds 300, two Boleros can be deployed to deliver the orders.\n"
      ],
      "metadata": {
        "id": "b0X63vQw1T-c"
      },
      "id": "b0X63vQw1T-c"
    }
  ],
  "metadata": {
    "kernelspec": {
      "display_name": "Python 3",
      "name": "python3"
    },
    "language_info": {
      "name": "python"
    },
    "required_libs": [],
    "colab": {
      "provenance": []
    }
  },
  "nbformat": 4,
  "nbformat_minor": 5
}